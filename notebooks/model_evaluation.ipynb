{
 "cells": [
  {
   "cell_type": "markdown",
   "id": "83db184c",
   "metadata": {},
   "source": [
    "IMPORT LIBRARIES"
   ]
  },
  {
   "cell_type": "code",
   "execution_count": 1,
   "id": "1c79c458",
   "metadata": {
    "execution": {
     "iopub.execute_input": "2024-05-09T13:49:55.669716Z",
     "iopub.status.busy": "2024-05-09T13:49:55.668946Z",
     "iopub.status.idle": "2024-05-09T13:50:03.001382Z",
     "shell.execute_reply": "2024-05-09T13:50:03.000584Z"
    },
    "papermill": {
     "duration": 7.340744,
     "end_time": "2024-05-09T13:50:03.003740",
     "exception": false,
     "start_time": "2024-05-09T13:49:55.662996",
     "status": "completed"
    },
    "tags": []
   },
   "outputs": [],
   "source": [
    "import os\n",
    "import numpy as np\n",
    "import librosa\n",
    "import torch\n",
    "from torch.utils.data import Dataset, DataLoader\n",
    "from sklearn.model_selection import train_test_split\n",
    "import torch.nn as nn\n",
    "import torch.nn.functional as F\n",
    "from torch import optim\n",
    "from torch.optim import Adam\n",
    "from sklearn.metrics import accuracy_score\n",
    "from torchvision import models"
   ]
  },
  {
   "cell_type": "markdown",
   "id": "e6e41161",
   "metadata": {},
   "source": [
    "LOAD LABELS"
   ]
  },
  {
   "cell_type": "code",
   "execution_count": 2,
   "id": "99061ee2",
   "metadata": {
    "execution": {
     "iopub.execute_input": "2024-05-09T13:50:03.013420Z",
     "iopub.status.busy": "2024-05-09T13:50:03.012688Z",
     "iopub.status.idle": "2024-05-09T13:50:03.031333Z",
     "shell.execute_reply": "2024-05-09T13:50:03.030602Z"
    },
    "papermill": {
     "duration": 0.025187,
     "end_time": "2024-05-09T13:50:03.033199",
     "exception": false,
     "start_time": "2024-05-09T13:50:03.008012",
     "status": "completed"
    },
    "tags": []
   },
   "outputs": [],
   "source": [
    "train_label_path = r'C:\\Users\\ramis\\OneDrive - nyu.edu\\Desktop\\New ML Project\\train_label.txt'\n",
    "with open(train_label_path, \"r\") as f:\n",
    "    train_labels = f.readlines()\n",
    "    train_labels = [int(label.strip()) for label in train_labels]\n",
    "    train_labels = np.array(train_labels)"
   ]
  },
  {
   "cell_type": "markdown",
   "id": "0c771fb4",
   "metadata": {},
   "source": [
    "FUNCTION TO PROCESS MEL SPEC"
   ]
  },
  {
   "cell_type": "code",
   "execution_count": 32,
   "id": "5f6a2172",
   "metadata": {
    "execution": {
     "iopub.execute_input": "2024-05-09T13:50:03.042115Z",
     "iopub.status.busy": "2024-05-09T13:50:03.041551Z",
     "iopub.status.idle": "2024-05-09T13:50:03.054883Z",
     "shell.execute_reply": "2024-05-09T13:50:03.054117Z"
    },
    "papermill": {
     "duration": 0.01968,
     "end_time": "2024-05-09T13:50:03.056674",
     "exception": false,
     "start_time": "2024-05-09T13:50:03.036994",
     "status": "completed"
    },
    "tags": []
   },
   "outputs": [],
   "source": [
    "def mel_filter_banks(path):\n",
    "    # Load audio file\n",
    "    y, sr = librosa.load(path, sr=16000)\n",
    "\n",
    "    # Define frame parameters\n",
    "    frame_size, frame_stride = 0.025, 0.01\n",
    "    frame_length, frame_step = int(round(sr * frame_size)), int(round(sr * frame_stride))\n",
    "    signal_length = 3 * sr  # Extract 0-3 seconds part\n",
    "    frame_num = int(np.ceil((signal_length - frame_length) / frame_step)) + 1\n",
    "    pad_frame = (frame_num - 1) * frame_step + frame_length - signal_length\n",
    "    pad_y = np.append(y, np.zeros(pad_frame))\n",
    "    signal_len = signal_length + pad_frame\n",
    "\n",
    "    # Frame splitting\n",
    "    indices = np.tile(np.arange(0, frame_length), (frame_num, 1)) + np.tile(np.arange(0, frame_num * frame_step, frame_step), (frame_length, 1)).T\n",
    "    frames = pad_y[indices]\n",
    "    frames *= np.hamming(frame_length)\n",
    "\n",
    "    # FFT and power spectra\n",
    "    NFFT = 1024\n",
    "    mag_frames = np.absolute(np.fft.rfft(frames, NFFT))\n",
    "    pow_frames = mag_frames ** 2 / NFFT\n",
    "\n",
    "    # Define Mel filter bank parameters\n",
    "    mel_N = 128\n",
    "    mel_low, mel_high = 0, (2595 * np.log10(1 + (sr / 2) / 700))\n",
    "    mel_freq = np.linspace(mel_low, mel_high, mel_N + 2)\n",
    "    hz_freq = (700 * (10 ** (mel_freq / 2595) - 1))\n",
    "    bins = np.floor((NFFT + 1) * hz_freq / sr)\n",
    "\n",
    "    # Construct Mel filter bank\n",
    "    fbank = np.zeros((mel_N, int(NFFT / 2 + 1)))\n",
    "    for m in range(1, mel_N + 1):\n",
    "        f_m_minus = int(bins[m - 1])  # left\n",
    "        f_m = int(bins[m])  # center\n",
    "        f_m_plus = int(bins[m + 1])  # right\n",
    "\n",
    "        for k in range(f_m_minus, f_m):\n",
    "            fbank[m - 1, k] = (k - bins[m - 1]) / (bins[m] - bins[m - 1])\n",
    "        for k in range(f_m, f_m_plus):\n",
    "            fbank[m - 1, k] = (bins[m + 1] - k) / (bins[m + 1] - bins[m])\n",
    "\n",
    "    # Apply Mel filter bank\n",
    "    filter_banks = np.matmul(pow_frames, fbank.T)\n",
    "    filter_banks = np.where(filter_banks == 0, np.finfo(float).eps, filter_banks)  # Avoid log of zero\n",
    "    filter_banks = 20 * np.log10(filter_banks)\n",
    "    filter_banks = (filter_banks - np.mean(filter_banks)) / np.std(filter_banks)\n",
    "\n",
    "    return filter_banks"
   ]
  },
  {
   "cell_type": "markdown",
   "id": "dba0d3a7",
   "metadata": {},
   "source": [
    "FUNCTION TO ADD TIME SHIFT"
   ]
  },
  {
   "cell_type": "code",
   "execution_count": 4,
   "id": "aeceadcf",
   "metadata": {
    "execution": {
     "iopub.execute_input": "2024-05-09T13:50:03.065369Z",
     "iopub.status.busy": "2024-05-09T13:50:03.065096Z",
     "iopub.status.idle": "2024-05-09T14:02:25.362499Z",
     "shell.execute_reply": "2024-05-09T14:02:25.361490Z"
    },
    "papermill": {
     "duration": 742.307602,
     "end_time": "2024-05-09T14:02:25.367939",
     "exception": false,
     "start_time": "2024-05-09T13:50:03.060337",
     "status": "completed"
    },
    "tags": []
   },
   "outputs": [
    {
     "name": "stdout",
     "output_type": "stream",
     "text": [
      "Train data Loaded Successfully\n"
     ]
    }
   ],
   "source": [
    "def time_shift(audio, shift_limit):\n",
    "    shift_amt = int(np.random.uniform(-shift_limit, shift_limit) * len(audio))\n",
    "    return np.roll(audio, shift_amt)\n"
   ]
  },
  {
   "cell_type": "markdown",
   "id": "8c73e55e",
   "metadata": {},
   "source": [
    "FUNCTION TO LOAD FILES"
   ]
  },
  {
   "cell_type": "code",
   "execution_count": null,
   "id": "a78d9c9f",
   "metadata": {},
   "outputs": [],
   "source": [
    "def load_audio_files(file_paths, augment=False):\n",
    "    melspectrograms = []\n",
    "    for file_path in file_paths:\n",
    "        y, sr = librosa.load(file_path)\n",
    "        if augment:\n",
    "            y = time_shift(y, 0.05)\n",
    "        melspectrogram = mel_filter_banks(file_path)\n",
    "        melspectrograms.append(melspectrogram)\n",
    "    return melspectrograms\n",
    "\n",
    "train_file_paths = [f'C:\\\\Users\\\\ramis\\\\OneDrive - nyu.edu\\\\Desktop\\\\New ML Project\\\\train_output\\\\{i}\\\\vocals.wav' for i in range(11886)]\n",
    "train_mel_spectrograms = load_audio_files(train_file_paths)\n",
    "train_audios = np.array(train_mel_spectrograms)\n",
    "print(\"Train data loaded successfully.\")\n"
   ]
  },
  {
   "cell_type": "code",
   "execution_count": 5,
   "id": "72ec3215",
   "metadata": {
    "execution": {
     "iopub.execute_input": "2024-05-09T14:02:25.377495Z",
     "iopub.status.busy": "2024-05-09T14:02:25.376991Z",
     "iopub.status.idle": "2024-05-09T14:02:25.383727Z",
     "shell.execute_reply": "2024-05-09T14:02:25.382905Z"
    },
    "papermill": {
     "duration": 0.013579,
     "end_time": "2024-05-09T14:02:25.385600",
     "exception": false,
     "start_time": "2024-05-09T14:02:25.372021",
     "status": "completed"
    },
    "tags": []
   },
   "outputs": [],
   "source": [
    "class AudioDataset(Dataset):\n",
    "    def __init__(self, audios, labels):\n",
    "        self.audios = audios\n",
    "        self.labels = labels\n",
    "\n",
    "    def __len__(self):\n",
    "        return len(self.audios)\n",
    "\n",
    "    def __getitem__(self, idx):\n",
    "        audio = self.audios[idx]\n",
    "        audio = np.expand_dims(audio, axis=0)\n",
    "        audio = torch.tensor(audio, dtype=torch.float32)\n",
    "        label = self.labels[idx]\n",
    "        label = torch.tensor(label, dtype=torch.long)\n",
    "        return audio, label"
   ]
  },
  {
   "cell_type": "markdown",
   "id": "6f6e1cc4",
   "metadata": {},
   "source": [
    "MODEL"
   ]
  },
  {
   "cell_type": "code",
   "execution_count": 6,
   "id": "b7652747",
   "metadata": {
    "execution": {
     "iopub.execute_input": "2024-05-09T14:02:25.394370Z",
     "iopub.status.busy": "2024-05-09T14:02:25.394088Z",
     "iopub.status.idle": "2024-05-09T14:02:25.659610Z",
     "shell.execute_reply": "2024-05-09T14:02:25.658761Z"
    },
    "papermill": {
     "duration": 0.272635,
     "end_time": "2024-05-09T14:02:25.662030",
     "exception": false,
     "start_time": "2024-05-09T14:02:25.389395",
     "status": "completed"
    },
    "tags": []
   },
   "outputs": [],
   "source": [
    "import torch\n",
    "import torch.nn as nn\n",
    "\n",
    "class BasicBlock(nn.Module):\n",
    "    expansion = 1\n",
    "\n",
    "    def __init__(self, in_channels, out_channels, stride=1, downsample=None):\n",
    "        super(BasicBlock, self).__init__()\n",
    "        self.conv1 = nn.Conv2d(in_channels, out_channels, kernel_size=3, stride=stride, padding=1, bias=False)\n",
    "        self.bn1 = nn.BatchNorm2d(out_channels)\n",
    "        self.relu = nn.ReLU(inplace=True)\n",
    "        self.conv2 = nn.Conv2d(out_channels, out_channels, kernel_size=3, padding=1, bias=False)\n",
    "        self.bn2 = nn.BatchNorm2d(out_channels)\n",
    "        self.downsample = downsample\n",
    "\n",
    "    def forward(self, x):\n",
    "        identity = x\n",
    "\n",
    "        out = self.conv1(x)\n",
    "        out = self.bn1(out)\n",
    "        out = self.relu(out)\n",
    "\n",
    "        out = self.conv2(out)\n",
    "        out = self.bn2(out)\n",
    "\n",
    "        if self.downsample:\n",
    "            identity = self.downsample(x)\n",
    "\n",
    "        out += identity\n",
    "        out = self.relu(out)\n",
    "        return out\n",
    "\n",
    "class ResNet(nn.Module):\n",
    "    def __init__(self, block, layers, num_classes=4):\n",
    "        super(ResNet, self).__init__()\n",
    "        self.in_channels = 64\n",
    "        self.conv1 = nn.Conv2d(1, 64, kernel_size=7, stride=2, padding=3, bias=False)\n",
    "        self.bn1 = nn.BatchNorm2d(64)\n",
    "        self.relu = nn.ReLU(inplace=True)\n",
    "        self.maxpool = nn.MaxPool2d(kernel_size=3, stride=2, padding=1)\n",
    "        self.layer1 = self._make_layer(block, 64, layers[0])\n",
    "        self.layer2 = self._make_layer(block, 128, layers[1], stride=2)\n",
    "        self.layer3 = self._make_layer(block, 256, layers[2], stride=2)\n",
    "        self.layer4 = self._make_layer(block, 512, layers[3], stride=2)\n",
    "        self.avgpool = nn.AdaptiveAvgPool2d((1, 1))\n",
    "        self.fc = nn.Linear(512 * block.expansion, num_classes)\n",
    "\n",
    "    def _make_layer(self, block, out_channels, blocks, stride=1):\n",
    "        downsample = None\n",
    "        if stride != 1 or self.in_channels != out_channels * block.expansion:\n",
    "            downsample = nn.Sequential(\n",
    "                nn.Conv2d(self.in_channels, out_channels * block.expansion, kernel_size=1, stride=stride, bias=False),\n",
    "                nn.BatchNorm2d(out_channels * block.expansion),\n",
    "            )\n",
    "\n",
    "        layers = []\n",
    "        layers.append(block(self.in_channels, out_channels, stride, downsample))\n",
    "        self.in_channels = out_channels * block.expansion\n",
    "        for _ in range(1, blocks):\n",
    "            layers.append(block(self.in_channels, out_channels))\n",
    "\n",
    "        return nn.Sequential(*layers)\n",
    "\n",
    "    def forward(self, x):\n",
    "        x = self.conv1(x)\n",
    "        x = self.bn1(x)\n",
    "        x = self.relu(x)\n",
    "        x = self.maxpool(x)\n",
    "\n",
    "        x = self.layer1(x)\n",
    "        x = self.layer2(x)\n",
    "        x = self.layer3(x)\n",
    "        x = self.layer4(x)\n",
    "\n",
    "        x = self.avgpool(x)\n",
    "        x = torch.flatten(x, 1)\n",
    "        x = self.fc(x)\n",
    "        return x\n",
    "\n",
    "# Example instantiation\n",
    "model = ResNet(BasicBlock, [2, 2, 2, 2], num_classes=4)\n"
   ]
  },
  {
   "cell_type": "code",
   "execution_count": 7,
   "id": "ddcab333",
   "metadata": {
    "execution": {
     "iopub.execute_input": "2024-05-09T14:02:25.671733Z",
     "iopub.status.busy": "2024-05-09T14:02:25.671018Z",
     "iopub.status.idle": "2024-05-09T14:02:25.903833Z",
     "shell.execute_reply": "2024-05-09T14:02:25.903031Z"
    },
    "papermill": {
     "duration": 0.239887,
     "end_time": "2024-05-09T14:02:25.906084",
     "exception": false,
     "start_time": "2024-05-09T14:02:25.666197",
     "status": "completed"
    },
    "tags": []
   },
   "outputs": [
    {
     "name": "stderr",
     "output_type": "stream",
     "text": [
      "c:\\Users\\ramis\\anaconda3\\envs\\myenv\\Lib\\site-packages\\torch\\optim\\lr_scheduler.py:28: UserWarning: The verbose parameter is deprecated. Please use get_last_lr() to access the learning rate.\n",
      "  warnings.warn(\"The verbose parameter is deprecated. Please use get_last_lr() \"\n"
     ]
    }
   ],
   "source": [
    "from torch.optim.lr_scheduler import ReduceLROnPlateau\n",
    "\n",
    "criterion = nn.CrossEntropyLoss()\n",
    "optimizer = optim.Adam(model.parameters(), lr=0.0004)\n",
    "device = torch.device('cuda' if torch.cuda.is_available() else 'cpu')\n",
    "model.to(device)\n",
    "scheduler = ReduceLROnPlateau(optimizer, mode='max', factor=0.5, patience=5, verbose=True)\n",
    "def train_model(model, train_loader, val_loader, epochs=32, lr=0.0001):\n",
    "    for epoch in range(epochs):\n",
    "        model.train()\n",
    "        train_correct = 0\n",
    "        train_total = 0\n",
    "        for inputs, labels in train_loader:\n",
    "            inputs, labels = inputs.to(device), labels.to(device)\n",
    "            optimizer.zero_grad()\n",
    "            outputs = model(inputs)\n",
    "            loss = criterion(outputs, labels)\n",
    "            loss.backward()\n",
    "            optimizer.step()\n",
    "\n",
    "            _, predicted = torch.max(outputs.data, 1)\n",
    "            train_total += labels.size(0)\n",
    "            train_correct += (predicted == labels).sum().item()\n",
    "\n",
    "        train_accuracy = 100 * train_correct / train_total\n",
    "\n",
    "\n",
    "        model.eval()\n",
    "        val_correct = 0\n",
    "        val_total = 0\n",
    "        with torch.no_grad():\n",
    "            for inputs, labels in val_loader:\n",
    "                inputs, labels = inputs.to(device), labels.to(device)\n",
    "                outputs = model(inputs)\n",
    "                _, predicted = torch.max(outputs.data, 1)\n",
    "                val_total += labels.size(0)\n",
    "                val_correct += (predicted == labels).sum().item()\n",
    "\n",
    "        val_accuracy = 100 * val_correct / val_total\n",
    "        print(f'Epoch {epoch+1}: Train Acc: {train_accuracy:.2f}%, Val Acc: {val_accuracy:.2f}%')\n",
    "        scheduler.step(val_accuracy)"
   ]
  },
  {
   "cell_type": "code",
   "execution_count": 26,
   "id": "a10e2ef6",
   "metadata": {
    "execution": {
     "iopub.execute_input": "2024-05-09T14:02:25.915481Z",
     "iopub.status.busy": "2024-05-09T14:02:25.915211Z",
     "iopub.status.idle": "2024-05-09T14:02:26.979929Z",
     "shell.execute_reply": "2024-05-09T14:02:26.978917Z"
    },
    "papermill": {
     "duration": 1.072087,
     "end_time": "2024-05-09T14:02:26.982394",
     "exception": false,
     "start_time": "2024-05-09T14:02:25.910307",
     "status": "completed"
    },
    "tags": []
   },
   "outputs": [],
   "source": [
    "train_mel_spectrograms, val_mel_spectrograms, train_labels, val_labels = train_test_split(\n",
    "    train_mel_spectrograms, train_labels, test_size=0.2, random_state=42)\n",
    "\n",
    "# Create dataset instances for training and validation sets\n",
    "train_dataset = AudioDataset(train_mel_spectrograms, train_labels)\n",
    "val_dataset = AudioDataset(val_mel_spectrograms, val_labels)\n",
    "\n",
    "# Create data loaders for batching\n",
    "train_loader = DataLoader(train_dataset, batch_size=128, shuffle=True)\n",
    "val_loader = DataLoader(val_dataset, batch_size=128, shuffle=False)\n",
    "\n",
    "print(\"Data loaders are set up and ready.\")"
   ]
  },
  {
   "cell_type": "code",
   "execution_count": 27,
   "id": "be18edcc",
   "metadata": {
    "execution": {
     "iopub.execute_input": "2024-05-09T14:02:26.991945Z",
     "iopub.status.busy": "2024-05-09T14:02:26.991626Z",
     "iopub.status.idle": "2024-05-09T14:11:23.247184Z",
     "shell.execute_reply": "2024-05-09T14:11:23.246200Z"
    },
    "papermill": {
     "duration": 536.26928,
     "end_time": "2024-05-09T14:11:23.255811",
     "exception": false,
     "start_time": "2024-05-09T14:02:26.986531",
     "status": "completed"
    },
    "tags": []
   },
   "outputs": [
    {
     "name": "stdout",
     "output_type": "stream",
     "text": [
      "Epoch 1: Train Acc: 99.33%, Val Acc: 99.11%\n",
      "Epoch 2: Train Acc: 99.38%, Val Acc: 98.90%\n",
      "Epoch 3: Train Acc: 99.34%, Val Acc: 98.84%\n",
      "Epoch 4: Train Acc: 99.38%, Val Acc: 98.90%\n",
      "Epoch 5: Train Acc: 99.43%, Val Acc: 98.84%\n",
      "Epoch 6: Train Acc: 99.46%, Val Acc: 98.84%\n",
      "Epoch 7: Train Acc: 99.37%, Val Acc: 98.74%\n",
      "Epoch 8: Train Acc: 99.43%, Val Acc: 98.84%\n",
      "Epoch 9: Train Acc: 99.42%, Val Acc: 98.84%\n",
      "Epoch 10: Train Acc: 99.49%, Val Acc: 98.79%\n",
      "Epoch 11: Train Acc: 99.57%, Val Acc: 98.79%\n",
      "Epoch 12: Train Acc: 99.50%, Val Acc: 98.74%\n",
      "Epoch 13: Train Acc: 99.41%, Val Acc: 98.79%\n",
      "Epoch 14: Train Acc: 99.50%, Val Acc: 98.79%\n",
      "Epoch 15: Train Acc: 99.42%, Val Acc: 98.79%\n",
      "Epoch 16: Train Acc: 99.34%, Val Acc: 98.74%\n",
      "Epoch 17: Train Acc: 99.50%, Val Acc: 98.79%\n",
      "Epoch 18: Train Acc: 99.43%, Val Acc: 98.74%\n",
      "Epoch 19: Train Acc: 99.47%, Val Acc: 98.79%\n",
      "Epoch 20: Train Acc: 99.45%, Val Acc: 98.84%\n",
      "Epoch 21: Train Acc: 99.47%, Val Acc: 98.79%\n",
      "Epoch 22: Train Acc: 99.45%, Val Acc: 98.74%\n",
      "Epoch 23: Train Acc: 99.46%, Val Acc: 98.79%\n",
      "Epoch 24: Train Acc: 99.46%, Val Acc: 98.79%\n",
      "Epoch 25: Train Acc: 99.47%, Val Acc: 98.79%\n",
      "Epoch 26: Train Acc: 99.47%, Val Acc: 98.79%\n",
      "Epoch 27: Train Acc: 99.45%, Val Acc: 98.79%\n",
      "Epoch 28: Train Acc: 99.57%, Val Acc: 98.79%\n",
      "Epoch 29: Train Acc: 99.46%, Val Acc: 98.74%\n",
      "Epoch 30: Train Acc: 99.55%, Val Acc: 98.79%\n",
      "Epoch 31: Train Acc: 99.59%, Val Acc: 98.79%\n",
      "Epoch 32: Train Acc: 99.62%, Val Acc: 98.79%\n",
      "Epoch 33: Train Acc: 99.49%, Val Acc: 98.79%\n",
      "Epoch 34: Train Acc: 99.54%, Val Acc: 98.79%\n",
      "Epoch 35: Train Acc: 99.54%, Val Acc: 98.79%\n",
      "Epoch 36: Train Acc: 99.45%, Val Acc: 98.79%\n",
      "Epoch 37: Train Acc: 99.51%, Val Acc: 98.79%\n",
      "Epoch 38: Train Acc: 99.51%, Val Acc: 98.79%\n",
      "Epoch 39: Train Acc: 99.62%, Val Acc: 98.74%\n",
      "Epoch 40: Train Acc: 99.47%, Val Acc: 98.79%\n"
     ]
    }
   ],
   "source": [
    "train_model(model, train_loader, val_loader, epochs=40, lr=0.0001)"
   ]
  },
  {
   "cell_type": "code",
   "execution_count": 31,
   "id": "54006355",
   "metadata": {},
   "outputs": [],
   "source": [
    "#save the whole model\n",
    "torch.save(model, 'a1final_model.pth')"
   ]
  },
  {
   "cell_type": "markdown",
   "id": "87da4cfc",
   "metadata": {},
   "source": [
    "LOAD TEST AND SAVE PREDICTIONS"
   ]
  },
  {
   "cell_type": "code",
   "execution_count": 33,
   "id": "3313859c",
   "metadata": {
    "execution": {
     "iopub.execute_input": "2024-05-09T14:11:23.269927Z",
     "iopub.status.busy": "2024-05-09T14:11:23.269590Z",
     "iopub.status.idle": "2024-05-09T14:13:30.636326Z",
     "shell.execute_reply": "2024-05-09T14:13:30.635486Z"
    },
    "papermill": {
     "duration": 127.376548,
     "end_time": "2024-05-09T14:13:30.638745",
     "exception": false,
     "start_time": "2024-05-09T14:11:23.262197",
     "status": "completed"
    },
    "tags": []
   },
   "outputs": [],
   "source": [
    "test_file_paths = [f'C:\\\\Users\\\\ramis\\\\OneDrive - nyu.edu\\\\Desktop\\\\New ML Project\\\\test_output\\\\{i}\\\\vocals.wav' for i in range(2447)]\n",
    "test_mel_spectrograms = load_audio_files(test_file_paths,augment=True)\n",
    "test_audios = np.array(test_audios)\n",
    "test_dataset = AudioDataset(test_audios, np.zeros(len(test_audios)))\n",
    "test_loader = DataLoader(test_dataset, batch_size=128, shuffle=False)"
   ]
  },
  {
   "cell_type": "code",
   "execution_count": 34,
   "id": "dae99ff9",
   "metadata": {
    "execution": {
     "iopub.execute_input": "2024-05-09T14:13:30.653937Z",
     "iopub.status.busy": "2024-05-09T14:13:30.653601Z",
     "iopub.status.idle": "2024-05-09T14:13:31.920562Z",
     "shell.execute_reply": "2024-05-09T14:13:31.919751Z"
    },
    "papermill": {
     "duration": 1.276968,
     "end_time": "2024-05-09T14:13:31.922803",
     "exception": false,
     "start_time": "2024-05-09T14:13:30.645835",
     "status": "completed"
    },
    "tags": []
   },
   "outputs": [],
   "source": [
    "def predict_and_save_csv(model, test_loader, output_file='final_submission6_newmodel_spleeter.csv'):\n",
    "    model.eval()\n",
    "    predictions = []\n",
    "    device = torch.device(\"cuda\" if torch.cuda.is_available() else \"cpu\")\n",
    "    with torch.no_grad():\n",
    "        for inputs, _ in test_loader:\n",
    "            inputs = inputs.to(device)\n",
    "            outputs = model(inputs)\n",
    "            _, predicted = torch.max(outputs.data, 1)\n",
    "            predictions.extend(predicted.cpu().numpy())\n",
    "\n",
    "    with open(output_file, 'w') as f:\n",
    "        f.write('id,category\\n')\n",
    "        for i, label in enumerate(predictions):\n",
    "            f.write(f'{i},{label}\\n')\n",
    "\n",
    "predict_and_save_csv(model, test_loader)\n",
    "torch.save(model, \"trained_model.pth\")\n"
   ]
  },
  {
   "cell_type": "code",
   "execution_count": null,
   "id": "a300aea8",
   "metadata": {},
   "outputs": [],
   "source": []
  }
 ],
 "metadata": {
  "kaggle": {
   "accelerator": "gpu",
   "dataSources": [
    {
     "datasetId": 4960064,
     "sourceId": 8361305,
     "sourceType": "datasetVersion"
    }
   ],
   "dockerImageVersionId": 30699,
   "isGpuEnabled": true,
   "isInternetEnabled": true,
   "language": "python",
   "sourceType": "notebook"
  },
  "kernelspec": {
   "display_name": "Python 3",
   "language": "python",
   "name": "python3"
  },
  "language_info": {
   "codemirror_mode": {
    "name": "ipython",
    "version": 3
   },
   "file_extension": ".py",
   "mimetype": "text/x-python",
   "name": "python",
   "nbconvert_exporter": "python",
   "pygments_lexer": "ipython3",
   "version": "3.11.7"
  },
  "papermill": {
   "default_parameters": {},
   "duration": 1421.906755,
   "end_time": "2024-05-09T14:13:34.812004",
   "environment_variables": {},
   "exception": null,
   "input_path": "__notebook__.ipynb",
   "output_path": "__notebook__.ipynb",
   "parameters": {},
   "start_time": "2024-05-09T13:49:52.905249",
   "version": "2.5.0"
  }
 },
 "nbformat": 4,
 "nbformat_minor": 5
}
